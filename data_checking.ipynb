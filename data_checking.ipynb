{
 "cells": [
  {
   "cell_type": "code",
   "execution_count": 47,
   "id": "46f6e2b5-8928-4eb3-99ab-2921bf212d7f",
   "metadata": {},
   "outputs": [],
   "source": [
    "\n",
    "YELP_PATH = 'dataset/amazon-book/amazon-book.train'"
   ]
  },
  {
   "cell_type": "code",
   "execution_count": 48,
   "id": "d331ff14-8a2a-4f59-bb81-a86ce9570c0a",
   "metadata": {},
   "outputs": [],
   "source": [
    "from collections import defaultdict\n",
    "from tqdm.auto import tqdm\n",
    "import pandas as pd"
   ]
  },
  {
   "cell_type": "code",
   "execution_count": 49,
   "id": "c63869b8-5191-4586-8e07-1e5a54a630b0",
   "metadata": {},
   "outputs": [
    {
     "data": {
      "application/json": {
       "ascii": false,
       "bar_format": null,
       "colour": null,
       "elapsed": 0.010000467300415039,
       "initial": 0,
       "n": 0,
       "ncols": null,
       "nrows": 14,
       "postfix": null,
       "prefix": "",
       "rate": null,
       "total": null,
       "unit": "it",
       "unit_divisor": 1000,
       "unit_scale": false
      },
      "application/vnd.jupyter.widget-view+json": {
       "model_id": "db60958ab7e44b35bbd520de7663770b",
       "version_major": 2,
       "version_minor": 0
      },
      "text/plain": [
       "0it [00:00, ?it/s]"
      ]
     },
     "metadata": {},
     "output_type": "display_data"
    }
   ],
   "source": [
    "user2count = defaultdict(lambda: 0)\n",
    "\n",
    "with open(YELP_PATH, 'r') as f:\n",
    "    for line in tqdm(f):\n",
    "        line = line.strip()\n",
    "        u, i = line.split(',')\n",
    "        u = int(u)\n",
    "        i = int(i)\n",
    "        user2count[u] += 1"
   ]
  },
  {
   "cell_type": "code",
   "execution_count": 44,
   "id": "d41c948a-0646-4e9b-8f79-23cc01c6ea20",
   "metadata": {},
   "outputs": [
    {
     "data": {
      "text/html": [
       "<div>\n",
       "<style scoped>\n",
       "    .dataframe tbody tr th:only-of-type {\n",
       "        vertical-align: middle;\n",
       "    }\n",
       "\n",
       "    .dataframe tbody tr th {\n",
       "        vertical-align: top;\n",
       "    }\n",
       "\n",
       "    .dataframe thead th {\n",
       "        text-align: right;\n",
       "    }\n",
       "</style>\n",
       "<table border=\"1\" class=\"dataframe\">\n",
       "  <thead>\n",
       "    <tr style=\"text-align: right;\">\n",
       "      <th></th>\n",
       "      <th>0</th>\n",
       "    </tr>\n",
       "  </thead>\n",
       "  <tbody>\n",
       "    <tr>\n",
       "      <th>0</th>\n",
       "      <td>14</td>\n",
       "    </tr>\n",
       "    <tr>\n",
       "      <th>1</th>\n",
       "      <td>83</td>\n",
       "    </tr>\n",
       "    <tr>\n",
       "      <th>2</th>\n",
       "      <td>12</td>\n",
       "    </tr>\n",
       "    <tr>\n",
       "      <th>3</th>\n",
       "      <td>38</td>\n",
       "    </tr>\n",
       "    <tr>\n",
       "      <th>4</th>\n",
       "      <td>12</td>\n",
       "    </tr>\n",
       "    <tr>\n",
       "      <th>...</th>\n",
       "      <td>...</td>\n",
       "    </tr>\n",
       "    <tr>\n",
       "      <th>52638</th>\n",
       "      <td>5</td>\n",
       "    </tr>\n",
       "    <tr>\n",
       "      <th>52639</th>\n",
       "      <td>5</td>\n",
       "    </tr>\n",
       "    <tr>\n",
       "      <th>52640</th>\n",
       "      <td>4</td>\n",
       "    </tr>\n",
       "    <tr>\n",
       "      <th>52641</th>\n",
       "      <td>5</td>\n",
       "    </tr>\n",
       "    <tr>\n",
       "      <th>52642</th>\n",
       "      <td>7</td>\n",
       "    </tr>\n",
       "  </tbody>\n",
       "</table>\n",
       "<p>52639 rows × 1 columns</p>\n",
       "</div>"
      ],
      "text/plain": [
       "        0\n",
       "0      14\n",
       "1      83\n",
       "2      12\n",
       "3      38\n",
       "4      12\n",
       "...    ..\n",
       "52638   5\n",
       "52639   5\n",
       "52640   4\n",
       "52641   5\n",
       "52642   7\n",
       "\n",
       "[52639 rows x 1 columns]"
      ]
     },
     "execution_count": 44,
     "metadata": {},
     "output_type": "execute_result"
    }
   ],
   "source": [
    "df = pd.DataFrame.from_dict(user2count, orient='index')\n",
    "df"
   ]
  },
  {
   "cell_type": "code",
   "execution_count": 50,
   "id": "9bcc2fb9-5f32-4ec0-b5e5-b3cbd97bdda4",
   "metadata": {},
   "outputs": [
    {
     "data": {
      "text/plain": [
       "3.9456692156492283"
      ]
     },
     "execution_count": 50,
     "metadata": {},
     "output_type": "execute_result"
    }
   ],
   "source": [
    "2380730 / 603378"
   ]
  },
  {
   "cell_type": "code",
   "execution_count": 45,
   "id": "2b8d34d4-3c6f-4035-82d6-99cb61253a82",
   "metadata": {},
   "outputs": [],
   "source": [
    "df.columns = ['Count']"
   ]
  },
  {
   "cell_type": "code",
   "execution_count": 46,
   "id": "d16fcae8-68f4-4d37-98a2-247d4a91ae76",
   "metadata": {},
   "outputs": [
    {
     "name": "stdout",
     "output_type": "stream",
     "text": [
      "最小交互数量 1\n"
     ]
    },
    {
     "data": {
      "image/png": "[encoded data removed]",
      "text/plain": [
       "<Figure size 432x288 with 1 Axes>"
      ]
     },
     "metadata": {
      "needs_background": "light"
     },
     "output_type": "display_data"
    }
   ],
   "source": [
    "df.plot(kind='hist', log=True, title=YELP_PATH, bins=100)\n",
    "print('最小交互数量', df['Count'].min())"
   ]
  },
  {
   "cell_type": "code",
   "execution_count": null,
   "id": "b71f3a3d-ac54-4e24-a431-89a3cea10b0c",
   "metadata": {},
   "outputs": [],
   "source": []
  }
 ],
 "metadata": {
  "kernelspec": {
   "display_name": "Python 3 (ipykernel)",
   "language": "python",
   "name": "python3"
  },
  "language_info": {
   "codemirror_mode": {
    "name": "ipython",
    "version": 3
   },
   "file_extension": ".py",
   "mimetype": "text/x-python",
   "name": "python",
   "nbconvert_exporter": "python",
   "pygments_lexer": "ipython3",
   "version": "3.7.9"
  }
 },
 "nbformat": 4,
 "nbformat_minor": 5
}
